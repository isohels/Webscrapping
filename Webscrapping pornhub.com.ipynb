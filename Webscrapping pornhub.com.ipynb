{
 "cells": [
  {
   "cell_type": "markdown",
   "metadata": {},
   "source": [
    "### Webscrapping Pornhub"
   ]
  },
  {
   "cell_type": "code",
   "execution_count": 2,
   "metadata": {},
   "outputs": [],
   "source": [
    "import bs4\n",
    "\n",
    "from urllib.request import urlopen as uReq\n",
    "from bs4 import BeautifulSoup as soup\n",
    "\n",
    "#grabbing the url\n",
    "\n",
    "myurl = 'https://www.pornhub.com/video?c=29'\n",
    "\n",
    "uClient = uReq(myurl)\n",
    "\n",
    "pagehtml = uClient.read()                             #Reading the whole html page\n",
    "\n",
    "uClient.close()\n",
    "\n",
    "pagesoup = soup(pagehtml,\"html.parser\")\n",
    "\n",
    "pagesoup.p\n",
    "\n",
    "#grabbing the views\n",
    "\n",
    "Milfviews= pagesoup.findAll(\"div\",{\"class\":\"wrap\"})\n",
    "\n",
    "len(Milfviews)\n",
    "\n",
    "numbviews=Milfviews[0].find(\"span\",\"views\")\n",
    "\n",
    "\n",
    "\n",
    "\n",
    "\n",
    "\n",
    "\n",
    "\n"
   ]
  },
  {
   "cell_type": "code",
   "execution_count": 27,
   "metadata": {},
   "outputs": [
    {
     "name": "stdout",
     "output_type": "stream",
     "text": [
      "885K views\n",
      "776K views\n",
      "49.6K views\n",
      "558K views\n",
      "8.5K views\n",
      "4.4K views\n",
      "2.6K views\n",
      "9.4K views\n",
      "12.5K views\n",
      "5.5K views\n",
      "10.6K views\n",
      "21.4K views\n",
      "4K views\n",
      "5K views\n",
      "11.2K views\n",
      "3.6K views\n",
      "9.3K views\n",
      "7.7K views\n",
      "37.4K views\n",
      "14.5K views\n",
      "7.5K views\n",
      "15.9K views\n",
      "6.5K views\n",
      "12.7K views\n",
      "6.8K views\n",
      "15K views\n",
      "3.9K views\n",
      "12.4K views\n",
      "14.2K views\n",
      "84.9K views\n",
      "56.6K views\n",
      "86.4K views\n",
      "5.3K views\n",
      "6.5K views\n",
      "11K views\n",
      "4.9K views\n",
      "3.6K views\n",
      "7.2K views\n"
     ]
    }
   ],
   "source": [
    "#grabbed views from pornhub.com of category milf.\n",
    "\n",
    "\n",
    "for i in range(0,38):\n",
    "    \n",
    "    numbviews=Milfviews[i].find(\"span\",\"views\")\n",
    "    \n",
    "    nuview = numbviews.text\n",
    "    \n",
    "    print(nuview)\n",
    "    i+=1\n",
    "    \n",
    "\n",
    "    "
   ]
  }
 ],
 "metadata": {
  "kernelspec": {
   "display_name": "Python 3",
   "language": "python",
   "name": "python3"
  },
  "language_info": {
   "codemirror_mode": {
    "name": "ipython",
    "version": 3
   },
   "file_extension": ".py",
   "mimetype": "text/x-python",
   "name": "python",
   "nbconvert_exporter": "python",
   "pygments_lexer": "ipython3",
   "version": "3.7.6"
  }
 },
 "nbformat": 4,
 "nbformat_minor": 4
}
