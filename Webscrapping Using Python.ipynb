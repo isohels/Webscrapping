{
 "cells": [
  {
   "cell_type": "markdown",
   "metadata": {},
   "source": [
    "### WebScrapping"
   ]
  },
  {
   "cell_type": "code",
   "execution_count": 2,
   "metadata": {},
   "outputs": [],
   "source": [
    "import bs4\n",
    "\n",
    "from urllib.request import urlopen as uReq\n",
    "from bs4 import BeautifulSoup as soup\n"
   ]
  },
  {
   "cell_type": "code",
   "execution_count": 3,
   "metadata": {},
   "outputs": [
    {
     "data": {
      "text/plain": [
       "12"
      ]
     },
     "execution_count": 3,
     "metadata": {},
     "output_type": "execute_result"
    }
   ],
   "source": [
    "# grabbing the url\n",
    "\n",
    "myurl = 'https://www.newegg.ca/Video-Cards-Video-Devices/Category/ID-38?Tpk=graphics%20card'\n",
    "\n",
    "uClient = uReq(myurl)\n",
    "\n",
    "pagehtml = uClient.read()          # Reading the whole html page\n",
    "\n",
    "uClient.close()\n",
    "\n",
    "#html Parsing\n",
    "\n",
    "pagesoup = soup(pagehtml,\"html.parser\")     #parse it as an html file\n",
    "\n",
    "\n",
    "pagesoup.h1                                 #reading h1 tag\n",
    "\n",
    "pagesoup.p                                  #reading p tag\n",
    "\n",
    "pagesoup.h2                                 #reading h2 tag\n",
    "\n",
    "#grabs each product in div in class with name tag item-container\n",
    "containers = pagesoup.findAll(\"div\",{\"class\":\"item-container\"})\n",
    "\n",
    "#check lenght of containers\n",
    "len(containers)"
   ]
  },
  {
   "cell_type": "code",
   "execution_count": 6,
   "metadata": {
    "scrolled": false
   },
   "outputs": [
    {
     "data": {
      "text/plain": [
       "<div class=\"item-container\">\n",
       "<!--product image-->\n",
       "<a class=\"item-img\" href=\"https://www.newegg.ca/gigabyte-geforce-rtx-2070-super-gv-n207swf3oc-8gd/p/N82E16814932213?Item=N82E16814932213\">\n",
       "<div class=\"item-badges\">\n",
       "</div>\n",
       "<img alt=\"GIGABYTE GeForce RTX 2070 Super WINDFORCE OC 3X 8G Graphics Card, 3 x WINDFORCE Fans, 8GB 256-Bit GDDR6, GV-N207SWF3OC-8GD Video Card\" class=\"lazy-img\" data-effect=\"fadeIn\" data-src=\"//c1.neweggimages.com/NeweggImage/ProductImageCompressAll300/14-932-213-V04.jpg\" src=\"//c1.neweggimages.com/WebResource/Themes/2005/Nest/blank.gif\" title=\"GIGABYTE GeForce RTX 2070 Super WINDFORCE OC 3X 8G Graphics Card, 3 x WINDFORCE Fans, 8GB 256-Bit GDDR6, GV-N207SWF3OC-8GD Video Card\">\n",
       "</img></a>\n",
       "<div class=\"item-info\">\n",
       "<!--brand info-->\n",
       "<div class=\"item-branding\">\n",
       "<a class=\"item-brand\" href=\"https://www.newegg.ca/GIGABYTE/BrandStore/ID-1314\">\n",
       "<img alt=\"GIGABYTE\" class=\"lazy-img\" data-effect=\"fadeIn\" data-src=\"//c1.neweggimages.com/Brandimage_70x28//Brand1314.gif\" src=\"//c1.neweggimages.com/WebResource/Themes/2005/Nest/blank.gif\" title=\"GIGABYTE\">\n",
       "</img></a>\n",
       "<!--rating info-->\n",
       "<a class=\"item-rating\" href=\"https://www.newegg.ca/gigabyte-geforce-rtx-2070-super-gv-n207swf3oc-8gd/p/N82E16814932213?Item=N82E16814932213&amp;SortField=0&amp;SummaryType=0&amp;PageSize=10&amp;SelectedRating=-1&amp;VideoOnlyMark=False&amp;IsFeedbackTab=true#scrollFullInfo\" title=\"Rating + 4\"><i class=\"rating rating-4\"></i><span class=\"item-rating-num\">(50)</span></a>\n",
       "</div>\n",
       "<!--description info-->\n",
       "<a class=\"item-title\" href=\"https://www.newegg.ca/gigabyte-geforce-rtx-2070-super-gv-n207swf3oc-8gd/p/N82E16814932213?Item=N82E16814932213\" title=\"View Details\">GIGABYTE GeForce RTX 2070 Super WINDFORCE OC 3X 8G Graphics Card, GV-N207SWF3OC-8GD</a>\n",
       "<!--promption info-->\n",
       "<p class=\"item-promo\"></p>\n",
       "<!--feature-->\n",
       "<ul class=\"item-features\">\n",
       "<li><strong>Core Clock:</strong> 1785 MHz</li><li><strong>Max Resolution:</strong> 7680 x 4320 @ 60 Hz</li><li><strong>DisplayPort:</strong> 3 x DisplayPort 1.4</li><li><strong>HDMI:</strong> 1 x HDMI 2.0b</li>\n",
       "<li><strong>Model #: </strong>GV-N207SWF3OC-8GD</li>\n",
       "<li><strong>Item #: </strong>N82E16814932213</li>\n",
       "</ul>\n",
       "<div class=\"item-action\">\n",
       "<!--price-->\n",
       "<ul class=\"price\">\n",
       "<li class=\"price-was\">\n",
       "</li>\n",
       "<li class=\"price-map\">\n",
       "</li>\n",
       "<li class=\"price-current\">\n",
       "<span class=\"price-current-label\">\n",
       "</span>$<strong>659</strong><sup>.99</sup> <a class=\"price-current-num\" href=\"https://www.newegg.ca/gigabyte-geforce-rtx-2070-super-gv-n207swf3oc-8gd/p/N82E16814932213?Item=N82E16814932213&amp;buyingoptions=New\">(8 Offers)</a>\n",
       "<span class=\"price-current-range\">\n",
       "<abbr title=\"to\">–</abbr>\n",
       "</span>\n",
       "</li>\n",
       "<li class=\"price-save\">\n",
       "<span class=\"price-save-endtime price-save-endtime-current\"></span>\n",
       "<span class=\"price-save-endtime price-save-endtime-another\" style=\"display:none;\"></span>\n",
       "</li>\n",
       "<li class=\"price-note\">\n",
       "</li>\n",
       "<li class=\"price-ship\">\n",
       "        $8.99 Shipping\n",
       "    </li>\n",
       "</ul>\n",
       "<!--egg point-->\n",
       "<!--financing-->\n",
       "<!--button-->\n",
       "<div class=\"item-operate hidden-action-button\">\n",
       "<div class=\"item-button-area\">\n",
       "<button class=\"btn btn-mini\" onclick=\"Javascript:Biz.ProductList.Item.add('https://www.newegg.ca/gigabyte-geforce-rtx-2070-super-gv-n207swf3oc-8gd/p/N82E16814932213?Item=N82E16814932213');\" title=\"View Details\" type=\"button\">View Details <i class=\"fa fa-caret-right\"></i>\n",
       "</button>\n",
       "</div>\n",
       "<!--compare-->\n",
       "<div class=\"item-compare-box\">\n",
       "<label class=\"form-checkbox\">\n",
       "<input autocomplete=\"off\" name=\"CompareItem\" neg-itemnumber=\"14-932-213\" type=\"checkbox\" value=\"CompareItem_14-932-213\"/>\n",
       "<span class=\"form-checkbox-title\">Compare</span>\n",
       "</label>\n",
       "</div>\n",
       "<script type=\"text/javascript\">\n",
       "                            \n",
       "                                Biz.Product.CompareConfig2019.compareItems.push(\"14-932-213\");\n",
       "                                var itemThumbs = new Object();\n",
       "                                itemThumbs.subCategoryId = 48;\n",
       "                                itemThumbs.subCategoryDescription = \"Desktop Graphics Cards\";\n",
       "                                itemThumbs.itemNumber = \"14-932-213\";\n",
       "                                itemThumbs.imageUrl = \"//c1.neweggimages.com/ProductImageCompressAll35/14-932-213-V04.jpg\";\n",
       "                                itemThumbs.description = \"GIGABYTE GeForce RTX 2070 Super WINDFORCE OC 3X 8G Graphics Card, GV-N207SWF3OC-8GD\";\n",
       "                                itemThumbs.productUrl = \"/gigabyte-geforce-rtx-2070-super-gv-n207swf3oc-8gd/p/N82E16814932213?Item=N82E16814932213\";\n",
       "                                Biz.Product.CompareConfig2019.Thumbs.push(itemThumbs);\n",
       "                            \n",
       "                    </script>\n",
       "</div>\n",
       "<!--ExtendWarranty PopUp-->\n",
       "<input class=\"open-popup\" id=\"ew_N82E16814932213\" type=\"hidden\">\n",
       "<input class=\"open-popup\" id=\"ew_MainItemFailedAddToCart_N82E16814932213\" type=\"hidden\">\n",
       "</input></input></div>\n",
       "</div>\n",
       "<div class=\"item-stock\" id=\"stock_14-932-213\">\n",
       "</div>\n",
       "</div>"
      ]
     },
     "execution_count": 6,
     "metadata": {},
     "output_type": "execute_result"
    }
   ],
   "source": [
    "#finding element at 0 index\n",
    "containers[0]"
   ]
  },
  {
   "cell_type": "code",
   "execution_count": 7,
   "metadata": {},
   "outputs": [
    {
     "data": {
      "text/plain": [
       "['item-img']"
      ]
     },
     "execution_count": 7,
     "metadata": {},
     "output_type": "execute_result"
    }
   ],
   "source": [
    "containers[0].a['class']         #usinng attribute to pick up title"
   ]
  },
  {
   "cell_type": "code",
   "execution_count": 8,
   "metadata": {},
   "outputs": [
    {
     "data": {
      "text/plain": [
       "'GIGABYTE'"
      ]
     },
     "execution_count": 8,
     "metadata": {},
     "output_type": "execute_result"
    }
   ],
   "source": [
    "containers1 = pagesoup.findAll(\"div\",{\"class\":\"item-info\"})\n",
    "container=containers1[0]\n",
    "container.div.a.img['title']"
   ]
  },
  {
   "cell_type": "code",
   "execution_count": 138,
   "metadata": {},
   "outputs": [],
   "source": [
    "for container in containers1:\n",
    "    container.div.a.img['title']\n"
   ]
  },
  {
   "cell_type": "code",
   "execution_count": 9,
   "metadata": {},
   "outputs": [
    {
     "data": {
      "text/plain": [
       "'GIGABYTE'"
      ]
     },
     "execution_count": 9,
     "metadata": {},
     "output_type": "execute_result"
    }
   ],
   "source": [
    "divwithinfo=containers[0].find(\"div\",\"item-info\")\n",
    "divwithinfo.div.a.img['title']"
   ]
  },
  {
   "cell_type": "code",
   "execution_count": 10,
   "metadata": {},
   "outputs": [
    {
     "data": {
      "text/plain": [
       "'View Details'"
      ]
     },
     "execution_count": 10,
     "metadata": {},
     "output_type": "execute_result"
    }
   ],
   "source": [
    "divwithtitle=containers[0].find(\"a\",\"item-title\")\n",
    "divwithtitle['title']"
   ]
  },
  {
   "cell_type": "code",
   "execution_count": 11,
   "metadata": {},
   "outputs": [
    {
     "data": {
      "text/plain": [
       "'Rating + 4'"
      ]
     },
     "execution_count": 11,
     "metadata": {},
     "output_type": "execute_result"
    }
   ],
   "source": [
    "#grabbing the rating\n",
    "divwithrating = containers[0].find(\"a\",\"item-rating\")\n",
    "divwithrating['title']"
   ]
  },
  {
   "cell_type": "code",
   "execution_count": 15,
   "metadata": {},
   "outputs": [
    {
     "data": {
      "text/plain": [
       "'GIGABYTE GeForce RTX 2070 Super WINDFORCE OC 3X 8G Graphics Card, GV-N207SWF3OC-8GD'"
      ]
     },
     "execution_count": 15,
     "metadata": {},
     "output_type": "execute_result"
    }
   ],
   "source": [
    "# grabbing description\n",
    "title_container = container.findAll(\"a\",{\"class\":\"item-title\"})\n",
    "title_container[0].text                              #grabbing text which was not present in anything"
   ]
  },
  {
   "cell_type": "code",
   "execution_count": 37,
   "metadata": {
    "scrolled": true
   },
   "outputs": [
    {
     "name": "stdout",
     "output_type": "stream",
     "text": [
      "brand:GIGABYTE\n",
      "productname:GIGABYTE GeForce RTX 2070 Super WINDFORCE OC 3X 8G Graphics Card, GV-N207SWF3OC-8GD\n",
      "shipping:$8.99 Shipping\n",
      "brand:EVGA\n",
      "productname:EVGA GeForce RTX 2070 SUPER BLACK GAMING, 08G-P4-3071-KR\n",
      "shipping:$7.99 Shipping\n",
      "brand:MSI\n",
      "productname:MSI Radeon RX 5700 XT DirectX 12 RX 5700 XT EVOKE OC Video Card\n",
      "shipping:$7.99 Shipping\n",
      "brand:ZOTAC\n",
      "productname:ZOTAC GeForce GTX 1060 DirectX 12 ZT-P10620A-10M Video Card\n",
      "shipping:$6.99 Shipping\n",
      "brand:MSI\n",
      "productname:MSI GeForce RTX 2080 SUPER DirectX 12 RTX 2080 Super Gaming X TRIO Video Card\n",
      "shipping:$7.99 Shipping\n",
      "brand:EVGA\n",
      "productname:EVGA GeForce RTX 2060 SUPER SC ULTRA GAMING, 08G-P4-3067-KR\n",
      "shipping:$9.99 Shipping\n",
      "brand:EVGA\n",
      "productname:EVGA GeForce RTX 2080 Ti DirectX 12 11G-P4-2281-KR BLACK EDITION GAMING Video Card, Dual HDB Fans & RGB LED\n",
      "shipping:$9.99 Shipping\n",
      "brand:ASRock\n",
      "productname:ASRock Phantom Gaming X Radeon RX 580 DirectX 12 RX580 8G OC Video Card\n",
      "shipping:$7.99 Shipping\n",
      "brand:ASUS\n",
      "productname:ASUS ROG STRIX GeForce RTX 2080 8G GDDR6 HDMI DP 1.4 USB Type-C Gaming Graphics Card (ROG-STRIX-RTX2080-A8G-GAMING)\n",
      "shipping:$4.99 Shipping\n",
      "brand:MSI\n",
      "productname:MSI GeForce RTX 2070 DirectX 12 RTX 2070 GAMING 8G Video Card\n",
      "shipping:$7.99 Shipping\n",
      "brand:ASUS\n",
      "productname:ASUS ROG STRIX GeForce GTX 1060 DirectX 12 ROG-STRIX-GTX1060-A6G-GAMING Video Card\n",
      "shipping:$8.99 Shipping\n",
      "brand:GIGABYTE\n",
      "productname:GIGABYTE Radeon RX 5700 XT GAMING OC 8G Graphics Card, GV-R57XTGAMING OC-8GD\n",
      "shipping:$9.99 Shipping\n"
     ]
    }
   ],
   "source": [
    "filename = \"product.csv\"\n",
    "f = open(filename,\"w\")\n",
    "\n",
    "headers = \"brand, product_name, shipping\\n\"\n",
    "f.write(headers)\n",
    "\n",
    "for container in containers1:\n",
    "    brand = container.div.a.img['title']\n",
    "    \n",
    "    # grabbing description\n",
    "    title_container = container.findAll(\"a\",{\"class\":\"item-title\"})\n",
    "    productname = title_container[0].text                              #grabbing text which was not present in anything\n",
    "    shipping_container = container.findAll(\"li\",{\"class\":\"price-ship\"})\n",
    "    shipping = shipping_container[0].text.strip()  \n",
    "    \n",
    "    print(\"brand:\" + brand)\n",
    "    print(\"productname:\" + productname)\n",
    "    print(\"shipping:\" + shipping)\n",
    "    \n",
    "    f.write(brand + \",\" + productname.replace(\",\",\" \") + \",\" + shipping+ \"\\n\")\n",
    "\n",
    "f.close()\n",
    "\n",
    "\n",
    "    "
   ]
  },
  {
   "cell_type": "code",
   "execution_count": 20,
   "metadata": {},
   "outputs": [
    {
     "data": {
      "text/plain": [
       "'$9.99 Shipping'"
      ]
     },
     "execution_count": 20,
     "metadata": {},
     "output_type": "execute_result"
    }
   ],
   "source": [
    "shipping_container = container.findAll(\"li\",{\"class\":\"price-ship\"})\n",
    "shipping_container\n",
    "shipping_container[0].text.strip()                           #strip removes whitespaces\n"
   ]
  }
 ],
 "metadata": {
  "kernelspec": {
   "display_name": "Python 3",
   "language": "python",
   "name": "python3"
  },
  "language_info": {
   "codemirror_mode": {
    "name": "ipython",
    "version": 3
   },
   "file_extension": ".py",
   "mimetype": "text/x-python",
   "name": "python",
   "nbconvert_exporter": "python",
   "pygments_lexer": "ipython3",
   "version": "3.7.6"
  }
 },
 "nbformat": 4,
 "nbformat_minor": 2
}
